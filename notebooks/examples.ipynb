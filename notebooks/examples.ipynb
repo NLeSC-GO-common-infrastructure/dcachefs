{
 "cells": [
  {
   "cell_type": "markdown",
   "metadata": {},
   "source": [
    "# Examples"
   ]
  },
  {
   "cell_type": "markdown",
   "metadata": {},
   "source": [
    "The `dCacheFileSystem` class provides a python file-system interface for dCache. It builds on [File-System Spec](https://filesystem-spec.readthedocs.io) (in particular, on its `HTTPFileSystem` implementation) and it can be used as an independent object or via the general-purpose `fsspec` methods."
   ]
  },
  {
   "cell_type": "markdown",
   "metadata": {},
   "source": [
    "For the following examples, the file-sytem is initially setup in the following way:"
   ]
  },
  {
   "cell_type": "markdown",
   "metadata": {},
   "source": [
    "```\n",
    "/\n",
    "└── test\n",
    "    ├── empty_testdir\n",
    "    ├── testdir_1\n",
    "    │   ├── file_1.txt\n",
    "    │   └── file_2.txt\n",
    "    └── testdir_2\n",
    "        ├── file_1.txt\n",
    "        └── file_2.txt\n",
    "```"
   ]
  },
  {
   "cell_type": "markdown",
   "metadata": {},
   "source": [
    "## Independent usage"
   ]
  },
  {
   "cell_type": "code",
   "execution_count": 1,
   "metadata": {},
   "outputs": [],
   "source": [
    "from dcachefs import dCacheFileSystem\n",
    "\n",
    "api_url = 'https://dcacheview.grid.surfsara.nl:22880/api/v1'\n",
    "\n",
    "# read authentication token\n",
    "with open('macaroon.dat') as f:\n",
    "    token = f.read().strip()\n",
    "\n",
    "fs = dCacheFileSystem(api_url=api_url, token=token)"
   ]
  },
  {
   "cell_type": "markdown",
   "metadata": {},
   "source": [
    "The following methods are implemented via the [dCache API](https://dcache.org/old/manuals/UserGuide-6.2/frontend.shtml):"
   ]
  },
  {
   "cell_type": "code",
   "execution_count": 2,
   "metadata": {},
   "outputs": [
    {
     "data": {
      "text/plain": [
       "['/test/testdir_1/file_2.txt', '/test/testdir_1/file_1.txt']"
      ]
     },
     "execution_count": 2,
     "metadata": {},
     "output_type": "execute_result"
    }
   ],
   "source": [
    "fs.ls('/test/testdir_1', detail=False)"
   ]
  },
  {
   "cell_type": "code",
   "execution_count": 3,
   "metadata": {},
   "outputs": [
    {
     "data": {
      "text/plain": [
       "[{'name': '/test/testdir_1/file_1.txt',\n",
       "  'size': 12,\n",
       "  'type': 'file',\n",
       "  'created': datetime.datetime(2021, 1, 20, 9, 43, 14, 231000),\n",
       "  'modified': datetime.datetime(2021, 1, 20, 9, 43, 14, 298000)}]"
      ]
     },
     "execution_count": 3,
     "metadata": {},
     "output_type": "execute_result"
    }
   ],
   "source": [
    "fs.ls('/test/testdir_1/file_1.txt')"
   ]
  },
  {
   "cell_type": "code",
   "execution_count": 4,
   "metadata": {},
   "outputs": [
    {
     "data": {
      "text/plain": [
       "[]"
      ]
     },
     "execution_count": 4,
     "metadata": {},
     "output_type": "execute_result"
    }
   ],
   "source": [
    "fs.ls('/test/empty_testdir')"
   ]
  },
  {
   "cell_type": "code",
   "execution_count": 5,
   "metadata": {},
   "outputs": [
    {
     "data": {
      "text/plain": [
       "{'name': '/test/testdir_1/',\n",
       " 'size': 512,\n",
       " 'type': 'directory',\n",
       " 'created': datetime.datetime(2021, 1, 20, 9, 43, 14, 7000),\n",
       " 'modified': datetime.datetime(2021, 1, 20, 9, 43, 14, 522000)}"
      ]
     },
     "execution_count": 5,
     "metadata": {},
     "output_type": "execute_result"
    }
   ],
   "source": [
    "fs.info('/test/testdir_1/')"
   ]
  },
  {
   "cell_type": "code",
   "execution_count": 6,
   "metadata": {},
   "outputs": [
    {
     "data": {
      "text/plain": [
       "['/test/testdir_2/file_2.txt', '/test/testdir_2/file_renamed.txt']"
      ]
     },
     "execution_count": 6,
     "metadata": {},
     "output_type": "execute_result"
    }
   ],
   "source": [
    "fs.mv('/test/testdir_2/file_1.txt', '/test/testdir_2/file_renamed.txt')\n",
    "fs.ls('/test/testdir_2/', detail=False)"
   ]
  },
  {
   "cell_type": "code",
   "execution_count": 7,
   "metadata": {},
   "outputs": [
    {
     "data": {
      "text/plain": [
       "['/test/testdir_2/file_renamed.txt']"
      ]
     },
     "execution_count": 7,
     "metadata": {},
     "output_type": "execute_result"
    }
   ],
   "source": [
    "fs.rm('/test/testdir_2/file_2.txt')\n",
    "fs.ls('/test/testdir_2/', detail=False)"
   ]
  },
  {
   "cell_type": "code",
   "execution_count": 8,
   "metadata": {},
   "outputs": [
    {
     "data": {
      "text/plain": [
       "True"
      ]
     },
     "execution_count": 8,
     "metadata": {},
     "output_type": "execute_result"
    }
   ],
   "source": [
    "fs.exists('/test/testdir_1/file_1.txt')"
   ]
  },
  {
   "cell_type": "code",
   "execution_count": 9,
   "metadata": {},
   "outputs": [
    {
     "data": {
      "text/plain": [
       "False"
      ]
     },
     "execution_count": 9,
     "metadata": {},
     "output_type": "execute_result"
    }
   ],
   "source": [
    "fs.exists('/test/testdir_1/nonexistent_file.txt')"
   ]
  },
  {
   "cell_type": "code",
   "execution_count": 10,
   "metadata": {},
   "outputs": [
    {
     "data": {
      "text/plain": [
       "True"
      ]
     },
     "execution_count": 10,
     "metadata": {},
     "output_type": "execute_result"
    }
   ],
   "source": [
    "fs.isfile('/test/testdir_1/file_1.txt')"
   ]
  },
  {
   "cell_type": "code",
   "execution_count": 11,
   "metadata": {},
   "outputs": [
    {
     "data": {
      "text/plain": [
       "True"
      ]
     },
     "execution_count": 11,
     "metadata": {},
     "output_type": "execute_result"
    }
   ],
   "source": [
    "fs.isdir('/test/testdir_1/')"
   ]
  },
  {
   "cell_type": "code",
   "execution_count": 12,
   "metadata": {},
   "outputs": [
    {
     "data": {
      "text/plain": [
       "datetime.datetime(2021, 1, 20, 9, 43, 14, 231000)"
      ]
     },
     "execution_count": 12,
     "metadata": {},
     "output_type": "execute_result"
    }
   ],
   "source": [
    "fs.created('/test/testdir_1/file_1.txt')"
   ]
  },
  {
   "cell_type": "code",
   "execution_count": 13,
   "metadata": {},
   "outputs": [
    {
     "data": {
      "text/plain": [
       "datetime.datetime(2021, 1, 20, 9, 43, 14, 298000)"
      ]
     },
     "execution_count": 13,
     "metadata": {},
     "output_type": "execute_result"
    }
   ],
   "source": [
    "fs.modified('/test/testdir_1/file_1.txt')"
   ]
  },
  {
   "cell_type": "code",
   "execution_count": 14,
   "metadata": {},
   "outputs": [
    {
     "data": {
      "text/plain": [
       "12"
      ]
     },
     "execution_count": 14,
     "metadata": {},
     "output_type": "execute_result"
    }
   ],
   "source": [
    "fs.size('/test/testdir_1/file_1.txt')"
   ]
  },
  {
   "cell_type": "code",
   "execution_count": 15,
   "metadata": {},
   "outputs": [
    {
     "data": {
      "text/plain": [
       "['/test/testdir_1/file_1.txt',\n",
       " '/test/testdir_1/file_2.txt',\n",
       " '/test/testdir_2/file_renamed.txt']"
      ]
     },
     "execution_count": 15,
     "metadata": {},
     "output_type": "execute_result"
    }
   ],
   "source": [
    "fs.glob('/test/testdir_*/file_*.txt')"
   ]
  },
  {
   "cell_type": "code",
   "execution_count": 16,
   "metadata": {},
   "outputs": [
    {
     "name": "stdout",
     "output_type": "stream",
     "text": [
      "/test\n",
      "/test/testdir_2\n",
      "/test/testdir_1\n",
      "/test/empty_testdir\n"
     ]
    }
   ],
   "source": [
    "for root, _, _ in fs.walk('/test'):\n",
    "    print(root)"
   ]
  },
  {
   "cell_type": "code",
   "execution_count": 17,
   "metadata": {},
   "outputs": [
    {
     "data": {
      "text/plain": [
       "['/test/testdir_1/file_1.txt',\n",
       " '/test/testdir_1/file_2.txt',\n",
       " '/test/testdir_2/file_renamed.txt']"
      ]
     },
     "execution_count": 17,
     "metadata": {},
     "output_type": "execute_result"
    }
   ],
   "source": [
    "fs.find('/test')"
   ]
  },
  {
   "cell_type": "code",
   "execution_count": 18,
   "metadata": {},
   "outputs": [
    {
     "data": {
      "text/plain": [
       "36"
      ]
     },
     "execution_count": 18,
     "metadata": {},
     "output_type": "execute_result"
    }
   ],
   "source": [
    "fs.du('/test') # bytes"
   ]
  },
  {
   "cell_type": "code",
   "execution_count": 19,
   "metadata": {},
   "outputs": [
    {
     "data": {
      "text/plain": [
       "52817760817091724892189505449282471387543089338661476495573442382936696898377"
      ]
     },
     "execution_count": 19,
     "metadata": {},
     "output_type": "execute_result"
    }
   ],
   "source": [
    "fs.checksum('/test/testdir_1/file_1.txt')"
   ]
  },
  {
   "cell_type": "markdown",
   "metadata": {},
   "source": [
    "The following methods, which involve reading/writing files from/to dCache, require the WebDAV door to be specified. It can be included in the URI:"
   ]
  },
  {
   "cell_type": "code",
   "execution_count": 20,
   "metadata": {},
   "outputs": [
    {
     "data": {
      "text/plain": [
       "b'Hello world!'"
      ]
     },
     "execution_count": 20,
     "metadata": {},
     "output_type": "execute_result"
    }
   ],
   "source": [
    "fs.cat('https://webdav.grid.surfsara.nl:2880/test/testdir_1/file_1.txt')"
   ]
  },
  {
   "cell_type": "markdown",
   "metadata": {},
   "source": [
    "or set via a separate input argument when instantiating the file-system object:"
   ]
  },
  {
   "cell_type": "code",
   "execution_count": 21,
   "metadata": {},
   "outputs": [
    {
     "data": {
      "text/plain": [
       "b'Hello world!'"
      ]
     },
     "execution_count": 21,
     "metadata": {},
     "output_type": "execute_result"
    }
   ],
   "source": [
    "webdav_url = 'https://webdav.grid.surfsara.nl:2880'\n",
    "fs = dCacheFileSystem(api_url=api_url, webdav_url=webdav_url, token=token)\n",
    "fs.cat('/test/testdir_1/file_1.txt')"
   ]
  },
  {
   "cell_type": "code",
   "execution_count": 22,
   "metadata": {},
   "outputs": [
    {
     "name": "stdout",
     "output_type": "stream",
     "text": [
      "./file.txt\n"
     ]
    }
   ],
   "source": [
    "local_path = './file.txt'\n",
    "fs.download('/test/testdir_1/file_1.txt', local_path)\n",
    "!ls $local_path"
   ]
  },
  {
   "cell_type": "code",
   "execution_count": 23,
   "metadata": {},
   "outputs": [
    {
     "data": {
      "text/plain": [
       "['/test/testdir_2/file_uploaded.txt']"
      ]
     },
     "execution_count": 23,
     "metadata": {},
     "output_type": "execute_result"
    }
   ],
   "source": [
    "remote_path = '/test/testdir_2/file_uploaded.txt'\n",
    "fs.upload(local_path, remote_path)\n",
    "fs.ls(remote_path, detail=False)"
   ]
  },
  {
   "cell_type": "code",
   "execution_count": 24,
   "metadata": {},
   "outputs": [
    {
     "data": {
      "text/plain": [
       "b'Hello world!'"
      ]
     },
     "execution_count": 24,
     "metadata": {},
     "output_type": "execute_result"
    }
   ],
   "source": [
    "with fs.open('/test/testdir_1/file_1.txt', 'rb') as f:\n",
    "    content = f.read()\n",
    "content"
   ]
  },
  {
   "cell_type": "code",
   "execution_count": 25,
   "metadata": {},
   "outputs": [
    {
     "data": {
      "text/plain": [
       "b'Hello world!'"
      ]
     },
     "execution_count": 25,
     "metadata": {},
     "output_type": "execute_result"
    }
   ],
   "source": [
    "path = '/test/testdir_2/file_written.txt'\n",
    "with fs.open(path, 'wb') as f:\n",
    "    f.write(b'Hello world!')\n",
    "fs.cat(path)"
   ]
  },
  {
   "cell_type": "markdown",
   "metadata": {},
   "source": [
    "## Usage via `fsspec`"
   ]
  },
  {
   "cell_type": "markdown",
   "metadata": {},
   "source": [
    "The dCache file-system class can be used via `fsspec` after registering it as a backend implementation:"
   ]
  },
  {
   "cell_type": "code",
   "execution_count": 26,
   "metadata": {},
   "outputs": [
    {
     "data": {
      "text/plain": [
       "b'Hello world!'"
      ]
     },
     "execution_count": 26,
     "metadata": {},
     "output_type": "execute_result"
    }
   ],
   "source": [
    "import fsspec\n",
    "# set class as default to open URIs with the https protocol  \n",
    "fsspec.register_implementation('https', dCacheFileSystem)\n",
    "\n",
    "# URI should include protocol and WeDAV door\n",
    "uri = 'https://webdav.grid.surfsara.nl:2880/test/testdir_1/file_1.txt'\n",
    "\n",
    "with fsspec.open(uri, token=token, api_url=api_url) as f:\n",
    "    content = f.read()\n",
    "content"
   ]
  },
  {
   "cell_type": "markdown",
   "metadata": {},
   "source": [
    "To register the class only temporarily, the `register_implementation` context manager can be used. This takes care of removing it from the `fsspec` implemention registry:"
   ]
  },
  {
   "cell_type": "code",
   "execution_count": 27,
   "metadata": {},
   "outputs": [
    {
     "data": {
      "text/plain": [
       "b'Hello world!'"
      ]
     },
     "execution_count": 27,
     "metadata": {},
     "output_type": "execute_result"
    }
   ],
   "source": [
    "import dcachefs\n",
    "with dcachefs.register_implementation(protocol='https'):\n",
    "    with fsspec.open(uri, token=token, api_url=api_url) as f:\n",
    "        content = f.read()\n",
    "content"
   ]
  }
 ],
 "metadata": {
  "kernelspec": {
   "display_name": "Python 3",
   "language": "python",
   "name": "python3"
  },
  "language_info": {
   "codemirror_mode": {
    "name": "ipython",
    "version": 3
   },
   "file_extension": ".py",
   "mimetype": "text/x-python",
   "name": "python",
   "nbconvert_exporter": "python",
   "pygments_lexer": "ipython3",
   "version": "3.8.5"
  }
 },
 "nbformat": 4,
 "nbformat_minor": 4
}
