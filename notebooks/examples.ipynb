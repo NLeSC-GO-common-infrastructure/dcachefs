{
 "cells": [
  {
   "cell_type": "code",
   "execution_count": 1,
   "metadata": {},
   "outputs": [
    {
     "data": {
      "text/plain": [
       "'0.1.3'"
      ]
     },
     "execution_count": 1,
     "metadata": {},
     "output_type": "execute_result"
    }
   ],
   "source": [
    "import dcachefs\n",
    "dcachefs.__version__"
   ]
  },
  {
   "cell_type": "markdown",
   "metadata": {},
   "source": [
    "# Examples"
   ]
  },
  {
   "cell_type": "markdown",
   "metadata": {},
   "source": [
    "The `dCacheFileSystem` class provides a python file-system interface for dCache. It builds on [Filesystem Spec](https://filesystem-spec.readthedocs.io) (in particular, on its `HTTPFileSystem` implementation) and it can be used as an independent object or via the general-purpose `fsspec` functions."
   ]
  },
  {
   "cell_type": "markdown",
   "metadata": {},
   "source": [
    "For the following examples, the file sytem is initially setup in the following way:"
   ]
  },
  {
   "cell_type": "markdown",
   "metadata": {},
   "source": [
    "```\n",
    "/\n",
    "└── test\n",
    "    ├── empty_testdir\n",
    "    ├── testdir_1\n",
    "    │   ├── file_1.txt\n",
    "    │   └── file_2.txt\n",
    "    └── testdir_2\n",
    "        ├── file_1.txt\n",
    "        └── file_2.txt\n",
    "```"
   ]
  },
  {
   "cell_type": "markdown",
   "metadata": {},
   "source": [
    "## Independent usage"
   ]
  },
  {
   "cell_type": "code",
   "execution_count": 2,
   "metadata": {},
   "outputs": [],
   "source": [
    "from dcachefs import dCacheFileSystem\n",
    "\n",
    "api_url = 'https://dcacheview.grid.surfsara.nl:22880/api/v1'\n",
    "\n",
    "# read authentication token\n",
    "with open('macaroon.dat') as f:\n",
    "    token = f.read().strip()\n",
    "\n",
    "fs = dCacheFileSystem(api_url=api_url, token=token)"
   ]
  },
  {
   "cell_type": "markdown",
   "metadata": {},
   "source": [
    "The following methods are implemented via the [dCache API](https://dcache.org/old/manuals/UserGuide-6.2/frontend.shtml):"
   ]
  },
  {
   "cell_type": "code",
   "execution_count": 3,
   "metadata": {},
   "outputs": [
    {
     "data": {
      "text/plain": [
       "['/test/testdir_1/file_1.txt', '/test/testdir_1/file_2.txt']"
      ]
     },
     "execution_count": 3,
     "metadata": {},
     "output_type": "execute_result"
    }
   ],
   "source": [
    "fs.ls('/test/testdir_1', detail=False)"
   ]
  },
  {
   "cell_type": "code",
   "execution_count": 4,
   "metadata": {},
   "outputs": [
    {
     "data": {
      "text/plain": [
       "[{'name': '/test/testdir_1/file_1.txt',\n",
       "  'size': 12,\n",
       "  'type': 'file',\n",
       "  'created': datetime.datetime(2022, 4, 28, 15, 42, 17, 566000),\n",
       "  'modified': datetime.datetime(2022, 4, 28, 15, 42, 17, 586000)}]"
      ]
     },
     "execution_count": 4,
     "metadata": {},
     "output_type": "execute_result"
    }
   ],
   "source": [
    "fs.ls('/test/testdir_1/file_1.txt')"
   ]
  },
  {
   "cell_type": "code",
   "execution_count": 5,
   "metadata": {},
   "outputs": [
    {
     "data": {
      "text/plain": [
       "[]"
      ]
     },
     "execution_count": 5,
     "metadata": {},
     "output_type": "execute_result"
    }
   ],
   "source": [
    "fs.ls('/test/empty_testdir')"
   ]
  },
  {
   "cell_type": "code",
   "execution_count": 6,
   "metadata": {},
   "outputs": [
    {
     "data": {
      "text/plain": [
       "{'name': '/test/testdir_1/',\n",
       " 'size': 512,\n",
       " 'type': 'directory',\n",
       " 'created': datetime.datetime(2022, 4, 28, 15, 42, 17, 503000),\n",
       " 'modified': datetime.datetime(2022, 4, 28, 15, 42, 17, 644000)}"
      ]
     },
     "execution_count": 6,
     "metadata": {},
     "output_type": "execute_result"
    }
   ],
   "source": [
    "fs.info('/test/testdir_1/')"
   ]
  },
  {
   "cell_type": "code",
   "execution_count": 7,
   "metadata": {},
   "outputs": [
    {
     "data": {
      "text/plain": [
       "['/test/testdir_2/file_2.txt', '/test/testdir_2/file_renamed.txt']"
      ]
     },
     "execution_count": 7,
     "metadata": {},
     "output_type": "execute_result"
    }
   ],
   "source": [
    "fs.mv('/test/testdir_2/file_1.txt', '/test/testdir_2/file_renamed.txt')\n",
    "fs.ls('/test/testdir_2/', detail=False)"
   ]
  },
  {
   "cell_type": "code",
   "execution_count": 8,
   "metadata": {},
   "outputs": [
    {
     "data": {
      "text/plain": [
       "['/test/testdir_2/file_renamed.txt']"
      ]
     },
     "execution_count": 8,
     "metadata": {},
     "output_type": "execute_result"
    }
   ],
   "source": [
    "fs.rm('/test/testdir_2/file_2.txt')\n",
    "fs.ls('/test/testdir_2/', detail=False)"
   ]
  },
  {
   "cell_type": "code",
   "execution_count": 9,
   "metadata": {},
   "outputs": [
    {
     "data": {
      "text/plain": [
       "True"
      ]
     },
     "execution_count": 9,
     "metadata": {},
     "output_type": "execute_result"
    }
   ],
   "source": [
    "fs.exists('/test/testdir_1/file_1.txt')"
   ]
  },
  {
   "cell_type": "code",
   "execution_count": 10,
   "metadata": {},
   "outputs": [
    {
     "data": {
      "text/plain": [
       "False"
      ]
     },
     "execution_count": 10,
     "metadata": {},
     "output_type": "execute_result"
    }
   ],
   "source": [
    "fs.exists('/test/testdir_1/nonexistent_file.txt')"
   ]
  },
  {
   "cell_type": "code",
   "execution_count": 11,
   "metadata": {},
   "outputs": [
    {
     "data": {
      "text/plain": [
       "True"
      ]
     },
     "execution_count": 11,
     "metadata": {},
     "output_type": "execute_result"
    }
   ],
   "source": [
    "fs.isfile('/test/testdir_1/file_1.txt')"
   ]
  },
  {
   "cell_type": "code",
   "execution_count": 12,
   "metadata": {},
   "outputs": [
    {
     "data": {
      "text/plain": [
       "True"
      ]
     },
     "execution_count": 12,
     "metadata": {},
     "output_type": "execute_result"
    }
   ],
   "source": [
    "fs.isdir('/test/testdir_1/')"
   ]
  },
  {
   "cell_type": "code",
   "execution_count": 13,
   "metadata": {},
   "outputs": [
    {
     "data": {
      "text/plain": [
       "datetime.datetime(2022, 4, 28, 15, 42, 17, 566000)"
      ]
     },
     "execution_count": 13,
     "metadata": {},
     "output_type": "execute_result"
    }
   ],
   "source": [
    "fs.created('/test/testdir_1/file_1.txt')"
   ]
  },
  {
   "cell_type": "code",
   "execution_count": 14,
   "metadata": {},
   "outputs": [
    {
     "data": {
      "text/plain": [
       "datetime.datetime(2022, 4, 28, 15, 42, 17, 586000)"
      ]
     },
     "execution_count": 14,
     "metadata": {},
     "output_type": "execute_result"
    }
   ],
   "source": [
    "fs.modified('/test/testdir_1/file_1.txt')"
   ]
  },
  {
   "cell_type": "code",
   "execution_count": 15,
   "metadata": {},
   "outputs": [
    {
     "data": {
      "text/plain": [
       "12"
      ]
     },
     "execution_count": 15,
     "metadata": {},
     "output_type": "execute_result"
    }
   ],
   "source": [
    "fs.size('/test/testdir_1/file_1.txt')"
   ]
  },
  {
   "cell_type": "code",
   "execution_count": 16,
   "metadata": {},
   "outputs": [
    {
     "data": {
      "text/plain": [
       "['/test/testdir_1/file_1.txt',\n",
       " '/test/testdir_1/file_2.txt',\n",
       " '/test/testdir_2/file_renamed.txt']"
      ]
     },
     "execution_count": 16,
     "metadata": {},
     "output_type": "execute_result"
    }
   ],
   "source": [
    "fs.glob('/test/testdir_*/file_*.txt')"
   ]
  },
  {
   "cell_type": "code",
   "execution_count": 17,
   "metadata": {},
   "outputs": [
    {
     "name": "stdout",
     "output_type": "stream",
     "text": [
      "/test\n",
      "/test/testdir_1\n",
      "/test/empty_testdir\n",
      "/test/testdir_2\n"
     ]
    }
   ],
   "source": [
    "for root, _, _ in fs.walk('/test'):\n",
    "    print(root)"
   ]
  },
  {
   "cell_type": "code",
   "execution_count": 18,
   "metadata": {},
   "outputs": [
    {
     "data": {
      "text/plain": [
       "['/test/testdir_1/file_1.txt',\n",
       " '/test/testdir_1/file_2.txt',\n",
       " '/test/testdir_2/file_renamed.txt']"
      ]
     },
     "execution_count": 18,
     "metadata": {},
     "output_type": "execute_result"
    }
   ],
   "source": [
    "fs.find('/test')"
   ]
  },
  {
   "cell_type": "code",
   "execution_count": 19,
   "metadata": {},
   "outputs": [
    {
     "data": {
      "text/plain": [
       "36"
      ]
     },
     "execution_count": 19,
     "metadata": {},
     "output_type": "execute_result"
    }
   ],
   "source": [
    "fs.du('/test') # bytes"
   ]
  },
  {
   "cell_type": "code",
   "execution_count": 20,
   "metadata": {},
   "outputs": [
    {
     "data": {
      "text/plain": [
       "29852467411734638623150000865252066217"
      ]
     },
     "execution_count": 20,
     "metadata": {},
     "output_type": "execute_result"
    }
   ],
   "source": [
    "fs.checksum('/test/testdir_1/file_1.txt')"
   ]
  },
  {
   "cell_type": "markdown",
   "metadata": {},
   "source": [
    "The following methods, which involve reading/writing files from/to dCache, require the WebDAV door to be specified via a separate input argument when instantiating the file-system object:"
   ]
  },
  {
   "cell_type": "code",
   "execution_count": 21,
   "metadata": {},
   "outputs": [
    {
     "data": {
      "text/plain": [
       "b'Hello world!'"
      ]
     },
     "execution_count": 21,
     "metadata": {},
     "output_type": "execute_result"
    }
   ],
   "source": [
    "webdav_url = 'https://webdav.grid.surfsara.nl:2880'\n",
    "fs = dCacheFileSystem(api_url=api_url, webdav_url=webdav_url, token=token)\n",
    "fs.cat('/test/testdir_1/file_1.txt')"
   ]
  },
  {
   "cell_type": "code",
   "execution_count": 22,
   "metadata": {},
   "outputs": [
    {
     "name": "stdout",
     "output_type": "stream",
     "text": [
      "Hello world!"
     ]
    }
   ],
   "source": [
    "local_path = './file.txt'\n",
    "fs.download('/test/testdir_1/file_1.txt', local_path)\n",
    "\n",
    "# check local copy\n",
    "!cat $local_path"
   ]
  },
  {
   "cell_type": "code",
   "execution_count": 23,
   "metadata": {},
   "outputs": [
    {
     "data": {
      "text/plain": [
       "b'Hello world!'"
      ]
     },
     "execution_count": 23,
     "metadata": {},
     "output_type": "execute_result"
    }
   ],
   "source": [
    "remote_path = '/test/testdir_2/file_uploaded.txt'\n",
    "fs.upload(local_path, remote_path)\n",
    "\n",
    "# check remote copy\n",
    "fs.cat(remote_path)"
   ]
  },
  {
   "cell_type": "code",
   "execution_count": 24,
   "metadata": {},
   "outputs": [
    {
     "data": {
      "text/plain": [
       "b'Hello world!'"
      ]
     },
     "execution_count": 24,
     "metadata": {},
     "output_type": "execute_result"
    }
   ],
   "source": [
    "with fs.open('/test/testdir_1/file_1.txt', 'rb') as f:\n",
    "    content = f.read()\n",
    "content"
   ]
  },
  {
   "cell_type": "code",
   "execution_count": 25,
   "metadata": {},
   "outputs": [
    {
     "data": {
      "text/plain": [
       "b'Hello world!'"
      ]
     },
     "execution_count": 25,
     "metadata": {},
     "output_type": "execute_result"
    }
   ],
   "source": [
    "path = '/test/testdir_2/file_written.txt'\n",
    "with fs.open(path, 'wb') as f:\n",
    "    f.write(b'Hello world!')\n",
    "fs.cat(path)"
   ]
  },
  {
   "cell_type": "markdown",
   "metadata": {},
   "source": [
    "## Usage via `fsspec`"
   ]
  },
  {
   "cell_type": "markdown",
   "metadata": {},
   "source": [
    "Once imported, `dcachefs` registers itself as the `fsspec` implementation for the \"dcache\" protocol. This means that all `fsspec` methods on URL-paths of the following form will be dealt via the `dCacheFileSystem`:\n",
    "```\n",
    "dcache://path/to/file/or/dir\n",
    "```\n",
    "Parameters like the API URL or WebDAV door can be passed as input arguments to the `fsspec` functions or specified in a .ini or .json configuration file in the directory file `${HOME}/.config/fsspec/` (see the [section of the fsspec documentation on configuration](https://filesystem-spec.readthedocs.io/en/latest/features.html#configuration))."
   ]
  },
  {
   "cell_type": "code",
   "execution_count": 26,
   "metadata": {},
   "outputs": [
    {
     "data": {
      "text/plain": [
       "b'Hello world!'"
      ]
     },
     "execution_count": 26,
     "metadata": {},
     "output_type": "execute_result"
    }
   ],
   "source": [
    "import fsspec\n",
    "\n",
    "uri = 'dcache://test/testdir_1/file_1.txt'\n",
    "\n",
    "with fsspec.open(uri, token=token, api_url=api_url, webdav_url=webdav_url) as f:\n",
    "    content = f.read()\n",
    "content"
   ]
  },
  {
   "cell_type": "markdown",
   "metadata": {},
   "source": [
    "One can also temporarily register the class as the default implementation for the HTTPS protocol, e.g. to deal with URL-paths that include the WebDAV door:"
   ]
  },
  {
   "cell_type": "code",
   "execution_count": 27,
   "metadata": {},
   "outputs": [
    {
     "data": {
      "text/plain": [
       "b'Hello world!'"
      ]
     },
     "execution_count": 27,
     "metadata": {},
     "output_type": "execute_result"
    }
   ],
   "source": [
    "# URI should include protocol and WeDAV door\n",
    "uri = 'https://webdav.grid.surfsara.nl:2880/test/testdir_1/file_1.txt'\n",
    "\n",
    "with dcachefs.register_implementation(protocol='https'):\n",
    "    # no need to specify here the webdav_url - it's already part of the URI\n",
    "    with fsspec.open(uri, token=token, api_url=api_url) as f:\n",
    "        content = f.read()\n",
    "content"
   ]
  }
 ],
 "metadata": {
  "kernelspec": {
   "display_name": "Python 3 (ipykernel)",
   "language": "python",
   "name": "python3"
  },
  "language_info": {
   "codemirror_mode": {
    "name": "ipython",
    "version": 3
   },
   "file_extension": ".py",
   "mimetype": "text/x-python",
   "name": "python",
   "nbconvert_exporter": "python",
   "pygments_lexer": "ipython3",
   "version": "3.7.12"
  }
 },
 "nbformat": 4,
 "nbformat_minor": 4
}
